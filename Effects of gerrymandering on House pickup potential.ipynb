{
 "cells": [
  {
   "cell_type": "markdown",
   "metadata": {},
   "source": [
    "Look at 2016 House vote margins to estimate effects of gerrymandering\n",
    "====================================================================="
   ]
  },
  {
   "cell_type": "markdown",
   "metadata": {},
   "source": [
    "Data downloaded from \n",
    "https://docs.google.com/spreadsheets/d/1oArjXSYeg40u4qQRR93qveN2N1UELQ6v04_mamrKg9g/edit#gid=0"
   ]
  },
  {
   "cell_type": "code",
   "execution_count": 1,
   "metadata": {
    "collapsed": true
   },
   "outputs": [],
   "source": [
    "%matplotlib inline"
   ]
  },
  {
   "cell_type": "code",
   "execution_count": 2,
   "metadata": {
    "collapsed": true
   },
   "outputs": [],
   "source": [
    "# Imports\n",
    "import matplotlib.pyplot as plt\n",
    "import numpy as np\n",
    "from astropy.table import Table\n",
    "from scipy.interpolate import interp1d"
   ]
  },
  {
   "cell_type": "code",
   "execution_count": 3,
   "metadata": {
    "collapsed": true
   },
   "outputs": [],
   "source": [
    "# Load data\n",
    "fname ='2016 National House Popular Vote Tracker - Sheet1.csv'\n",
    "dat = Table.read(fname, format='ascii')"
   ]
  },
  {
   "cell_type": "code",
   "execution_count": 4,
   "metadata": {
    "collapsed": false
   },
   "outputs": [],
   "source": [
    "# Define margin, absolute margin, and who holds each seat\n",
    "gopmargin = np.array([float(x.strip('%')) for x in dat['GOP Margin%'].compressed()])\n",
    "absmargin = np.abs(gopmargin)\n",
    "demseats = (gopmargin < 0.)\n",
    "gopseats = (gopmargin > 0.)"
   ]
  },
  {
   "cell_type": "code",
   "execution_count": 5,
   "metadata": {
    "collapsed": false
   },
   "outputs": [
    {
     "data": {
      "image/png": "[encoded data removed]",
      "text/plain": [
       "<matplotlib.figure.Figure at 0x10d18c690>"
      ]
     },
     "metadata": {},
     "output_type": "display_data"
    }
   ],
   "source": [
    "# Plot margin and absolute margin histograms\n",
    "fig = plt.figure()\n",
    "figsize = fig.get_size_inches()\n",
    "figsize[0] *= 2\n",
    "fig.set_size_inches(figsize)\n",
    "axmargin = fig.add_subplot(121)\n",
    "axmargin.hist(gopmargin[gopseats], bins=np.arange(-102, 102, 2), color='red');\n",
    "axmargin.hist(gopmargin[demseats], bins=np.arange(-102, 102, 2), color='blue')\n",
    "axmargin.set_xlim(-100,100)\n",
    "axmargin.set_xlabel('GOP Margin')\n",
    "axabs = fig.add_subplot(122)\n",
    "axabs.hist((absmargin[gopseats], absmargin[demseats],), bins=np.arange(-2, 102, 2), stacked=True, color=['red','blue'], linewidth=0);\n",
    "axabs.set_xlim(0,100)\n",
    "axabs.set_xlabel('Margin');"
   ]
  },
  {
   "cell_type": "markdown",
   "metadata": {},
   "source": [
    "Left: Margin by which GOP candidate led next highest candidate. Red are seats where GOP candidate won, blue are seats where Dem candidate won.\n",
    "Right: Absolute margin of winner.\n",
    "\n",
    "Conclusions:\n",
    "    - GOP hold more seats with 20%ish margin (characteristic of gerrymandering), Dems have a much broader distribution.\n",
    "    - Typical margin for contested seats is 20%."
   ]
  },
  {
   "cell_type": "markdown",
   "metadata": {},
   "source": [
    "Plot the CDF to see how many seats each party gets as the electorate moves proportionally in each direction\n",
    "---------------------------------------------------------------------------------------------------------------"
   ]
  },
  {
   "cell_type": "code",
   "execution_count": 6,
   "metadata": {
    "collapsed": true
   },
   "outputs": [],
   "source": [
    "# Discrete CDF function of data\n",
    "def cdf_gen(data):\n",
    "    n = len(data)\n",
    "    cumulat = np.arange(n)+1\n",
    "    return interp1d(sorted(data), cumulat, bounds_error=False, fill_value=(0,n,))"
   ]
  },
  {
   "cell_type": "code",
   "execution_count": 7,
   "metadata": {
    "collapsed": false
   },
   "outputs": [],
   "source": [
    "gopcdf = cdf_gen(-gopmargin[demseats])\n",
    "demcdf = cdf_gen(gopmargin[gopseats])"
   ]
  },
  {
   "cell_type": "code",
   "execution_count": 8,
   "metadata": {
    "collapsed": false
   },
   "outputs": [
    {
     "data": {
      "image/png": "[encoded data removed]",
      "text/plain": [
       "<matplotlib.figure.Figure at 0x10d1f6ad0>"
      ]
     },
     "metadata": {},
     "output_type": "display_data"
    }
   ],
   "source": [
    "# Plot the CDF.\n",
    "fig = plt.figure()\n",
    "ax = fig.add_subplot(111)\n",
    "xax = np.arange(25)\n",
    "ax.plot(xax, gopcdf(xax), color='red', label='GOP')\n",
    "ax.plot(xax, demcdf(xax), color='blue', label='Dem')\n",
    "ax.set_title('Seat improvement as environment shifts')\n",
    "ax.set_xlabel('Shift in vote (%)')\n",
    "ax.set_ylabel('Extra seats won')\n",
    "ax.legend(loc='best');"
   ]
  },
  {
   "cell_type": "markdown",
   "metadata": {},
   "source": [
    "Conclusions:\n",
    " - As the environment gets more GOP-friendly, they steadily increase their seats, but it takes a very large shift in environment to gain more than 20 sesats.\n",
    " - There aren't many seats that are easy pickups for the Democrats, so they don't gain much until the shift gets to about 8%. But there are a large number of GOP seats held by 8-25%, so the pickups rise dramatically beyond especially 10%. That is really what would result in a wave election."
   ]
  },
  {
   "cell_type": "code",
   "execution_count": null,
   "metadata": {
    "collapsed": true
   },
   "outputs": [],
   "source": []
  }
 ],
 "metadata": {
  "kernelspec": {
   "display_name": "Python 2",
   "language": "python",
   "name": "python2"
  },
  "language_info": {
   "codemirror_mode": {
    "name": "ipython",
    "version": 2
   },
   "file_extension": ".py",
   "mimetype": "text/x-python",
   "name": "python",
   "nbconvert_exporter": "python",
   "pygments_lexer": "ipython2",
   "version": "2.7.11"
  }
 },
 "nbformat": 4,
 "nbformat_minor": 0
}
